{
 "cells": [
  {
   "cell_type": "code",
   "execution_count": 15,
   "metadata": {
    "collapsed": true
   },
   "outputs": [],
   "source": [
    "import os\n",
    "import numpy as np\n",
    "import cv2\n",
    "import pandas as pd\n",
    "from torch.utils import data\n",
    "from sklearn.model_selection import train_test_split\n",
    "from net import Modle\n",
    "import torch\n",
    "from torch import nn\n",
    "import torch.optim as optim\n",
    "import time"
   ]
  },
  {
   "cell_type": "code",
   "execution_count": 16,
   "outputs": [],
   "source": [
    "def img_recover(img_list, label):\n",
    "    index = range(0,4)\n",
    "    index_1 = np.lexsort((index, label))\n",
    "    sort = [index[i] for i in index_1]\n",
    "    heng_1 = np.concatenate((img_list[sort[0]],img_list[sort[1]]),axis=1)\n",
    "    heng_2 = np.concatenate((img_list[sort[2]],img_list[sort[3]]),axis=1)\n",
    "    fl = np.concatenate((heng_1,heng_2), axis=0)\n",
    "    return fl\n"
   ],
   "metadata": {
    "collapsed": false,
    "pycharm": {
     "name": "#%%\n"
    }
   }
  },
  {
   "cell_type": "code",
   "execution_count": 17,
   "outputs": [],
   "source": [
    "# 创建dataset 的子类\n",
    "class Mydataset(data.Dataset):\n",
    "    def __init__(self, imgs_path, labels ):\n",
    "        self.imgs_path = imgs_path\n",
    "        self.labels = labels\n",
    "\n",
    "    def __getitem__(self, index):\n",
    "        img = self.imgs_path[index]\n",
    "        img = self.read_img(img)\n",
    "        img = torch.tensor(img, dtype=torch.float32)\n",
    "        label = self.labels[index]\n",
    "\n",
    "        return img,label\n",
    "\n",
    "    def __len__(self):\n",
    "        return len(self.imgs_path)\n",
    "\n",
    "\n",
    "    def read_img(self, path):\n",
    "        read_img = cv2.imread(path,0)\n",
    "        img = self.preprocess(read_img)\n",
    "        img = self.add_dim(img)\n",
    "        return img\n",
    "\n",
    "\n",
    "    def preprocess(self, image):\n",
    "        first = image[:100,:100]\n",
    "        second = image[:100,100:]\n",
    "        third = image[100:,:100]\n",
    "        fourth = image[100:,100:]\n",
    "        return first, second, third, fourth\n",
    "\n",
    "    def add_dim(self, img_list):\n",
    "        # np.expand_dims(img_list[0], axis=0).shape\n",
    "        input = np.expand_dims(img_list[0], axis=0)\n",
    "        for i in list(img_list)[1:]:\n",
    "            # 增加维度\n",
    "            i = np.expand_dims(i, axis=0)\n",
    "            # 拼接\n",
    "            input = np.concatenate((input, i), axis=0)\n",
    "\n",
    "        # 变换顺序\n",
    "        # input = np.transpose(input, (0,3,1,2))\n",
    "        return input"
   ],
   "metadata": {
    "collapsed": false,
    "pycharm": {
     "name": "#%%\n"
    }
   }
  },
  {
   "cell_type": "code",
   "execution_count": 54,
   "outputs": [],
   "source": [
    "def read_data(path,type):\n",
    "    # 拼接路径\n",
    "    train_img = os.path.join(path, type)\n",
    "    train_label = os.path.join(path, type+ '.csv')\n",
    "\n",
    "    # 获取图片的path列表\n",
    "    train_img_path = os.listdir(train_img)\n",
    "    train_img_path.sort(key=lambda x:int(x.split('.')[0]))\n",
    "    train_img_path = list(map(lambda x:os.path.join(train_img,x),train_img_path))\n",
    "\n",
    "    # 处理标签数据\n",
    "    labels = pd.read_csv(train_label)\n",
    "    labels = labels.label.apply(lambda x:np.array([int(i) for i in x.split()]).reshape(1,-1))\n",
    "    labels = labels.values\n",
    "\n",
    "    first_label = labels[0]\n",
    "    other_label = labels[1:]\n",
    "    for i in other_label:\n",
    "        first_label = np.concatenate((first_label,i), axis=0)\n",
    "\n",
    "    first_label = torch.tensor(first_label,dtype=torch.float32)\n",
    "\n",
    "    return train_img_path, first_label\n"
   ],
   "metadata": {
    "collapsed": false,
    "pycharm": {
     "name": "#%%\n"
    }
   }
  },
  {
   "cell_type": "code",
   "execution_count": 19,
   "outputs": [],
   "source": [
    "train_path = './data/puzzle_2x2/'\n",
    "train_img,train_label = read_data(train_path,type='train')\n"
   ],
   "metadata": {
    "collapsed": false,
    "pycharm": {
     "name": "#%%\n"
    }
   }
  },
  {
   "cell_type": "code",
   "execution_count": 20,
   "outputs": [],
   "source": [
    "# 划分数据集\n",
    "X_train, X_test, Y_train, Y_test = train_test_split(train_img, train_label, random_state=42,shuffle=True)"
   ],
   "metadata": {
    "collapsed": false,
    "pycharm": {
     "name": "#%%\n"
    }
   }
  },
  {
   "cell_type": "code",
   "execution_count": 21,
   "outputs": [],
   "source": [
    "# 训练集\n",
    "train_dataset = Mydataset(X_train,Y_train)\n",
    "# 创建dataloader\n",
    "train_dataloader = data.DataLoader(dataset=train_dataset,\n",
    "                                   batch_size=64,\n",
    "                                   # 设置读取线程\n",
    "                                   num_workers=0,\n",
    "                                   drop_last=True)\n",
    "\n",
    "# 测试机\n",
    "test_dataset = Mydataset(X_test,Y_test)\n",
    "test_dataloader = data.DataLoader(dataset=test_dataset,\n",
    "                                  batch_size=128)\n"
   ],
   "metadata": {
    "collapsed": false,
    "pycharm": {
     "name": "#%%\n"
    }
   }
  },
  {
   "cell_type": "code",
   "execution_count": 22,
   "outputs": [],
   "source": [
    "# # 测试代码\n",
    "# imgs_batch, labels_batch = next(iter(train_dataloader))\n",
    "# # 前向传播一次\n",
    "# model = Modle()\n",
    "# model.eval()\n",
    "# pre = model(imgs_batch)\n",
    "# print(pre.shape)\n",
    "# loss_fn = nn.CrossEntropyLoss()\n",
    "# loss = loss_fn(pre,labels_batch)\n",
    "# # loss.backward()\n",
    "# loss"
   ],
   "metadata": {
    "collapsed": false,
    "pycharm": {
     "name": "#%%\n"
    }
   }
  },
  {
   "cell_type": "code",
   "execution_count": 51,
   "outputs": [],
   "source": [
    "def decode(pre_data):\n",
    "\n",
    "    b = np.array(range(4))\n",
    "    c = []\n",
    "    d = []\n",
    "    # 按照a的大小顺序对b进行排序\n",
    "    for i in np.lexsort((b, pre_data.data)):\n",
    "        c.append(b[i])\n",
    "\n",
    "    for i in np.lexsort((b, c)):\n",
    "        d.append(b[i])\n",
    "    return np.array(d).reshape(1,-1)\n",
    "\n",
    "# a = np.array([0.1,2.5,1.5,1.9])\n",
    "# decode(a)\n",
    "\n",
    "def pre2label(pre):\n",
    "    first = decode(pre[0])\n",
    "    for k in pre[1:]:\n",
    "        first = np.concatenate((first,decode(k)),axis=0)\n",
    "    return first\n",
    "\n",
    "# labels_batch\n",
    "# a = pre2label(pre)\n",
    "def acc(pre,label):\n",
    "    pre = pre2label(pre)\n",
    "    return ((pre == label.numpy()).sum(1)==4).mean()\n",
    "\n",
    "# acc(pre,labels_batch)"
   ],
   "metadata": {
    "collapsed": false,
    "pycharm": {
     "name": "#%%\n"
    }
   }
  },
  {
   "cell_type": "code",
   "execution_count": 24,
   "outputs": [
    {
     "name": "stdout",
     "output_type": "stream",
     "text": [
      "当前epoch为:0,训练集损失为:8.18324263526364,训练集正确率为:0.0,验证集损失为:7.816941675249037,验证集正确率为:0.0,用时:230.42760157585144s\n",
      "当前epoch为:1,训练集损失为:7.6636555380607065,训练集正确率为:0.0,验证集损失为:7.559809344155448,验证集正确率为:0.0,用时:109.05908536911011s\n",
      "当前epoch为:2,训练集损失为:7.492563196544141,训练集正确率为:0.0,验证集损失为:7.439709521911957,验证集正确率为:0.0,用时:107.99856066703796s\n",
      "当前epoch为:3,训练集损失为:7.404663341620119,训练集正确率为:0.0,验证集损失为:7.389477543778472,验证集正确率为:0.0,用时:107.68720865249634s\n",
      "当前epoch为:4,训练集损失为:7.32446755628647,训练集正确率为:0.0,验证集损失为:7.2936125089834025,验证集正确率为:0.0,用时:114.0962426662445s\n",
      "当前epoch为:5,训练集损失为:7.286965325160599,训练集正确率为:0.0,验证集损失为:7.251766225793859,验证集正确率为:0.0,用时:100.54153203964233s\n",
      "当前epoch为:6,训练集损失为:7.219972894565432,训练集正确率为:0.0,验证集损失为:7.15572113257188,验证集正确率为:0.0,用时:99.08280158042908s\n",
      "当前epoch为:7,训练集损失为:7.160276596530876,训练集正确率为:0.0,验证集损失为:7.10502288367722,验证集正确率为:0.0,用时:100.00805616378784s\n",
      "当前epoch为:8,训练集损失为:7.090392413432176,训练集正确率为:0.0,验证集损失为:7.06576985841269,验证集正确率为:0.0,用时:99.27525091171265s\n",
      "当前epoch为:9,训练集损失为:7.044651817772828,训练集正确率为:0.0,验证集损失为:7.0294003539032985,验证集正确率为:0.0,用时:98.95633506774902s\n",
      "当前epoch为:10,训练集损失为:6.997579722312697,训练集正确率为:0.0,验证集损失为:6.977828486935123,验证集正确率为:0.0,用时:98.78370499610901s\n",
      "当前epoch为:11,训练集损失为:6.96378454038793,训练集正确率为:0.0,验证集损失为:6.956768976463066,验证集正确率为:0.0,用时:99.13235712051392s\n",
      "当前epoch为:12,训练集损失为:6.920805225232454,训练集正确率为:0.0,验证集损失为:7.099884999977363,验证集正确率为:0.0,用时:99.06924867630005s\n",
      "当前epoch为:13,训练集损失为:6.905772073240481,训练集正确率为:0.0,验证集损失为:6.921671749471308,验证集正确率为:0.0,用时:99.20689916610718s\n",
      "当前epoch为:14,训练集损失为:6.893940686523969,训练集正确率为:0.0,验证集损失为:6.972895001317118,验证集正确率为:0.0,用时:107.90510845184326s\n",
      "当前epoch为:15,训练集损失为:6.859214611385636,训练集正确率为:0.0,验证集损失为:6.899755035127912,验证集正确率为:0.0,用时:108.49177408218384s\n",
      "当前epoch为:16,训练集损失为:6.8198443442501135,训练集正确率为:0.0,验证集损失为:6.88991857623006,验证集正确率为:0.0,用时:106.11415815353394s\n",
      "当前epoch为:17,训练集损失为:6.83443270026818,训练集正确率为:0.0,验证集损失为:6.873102921705979,验证集正确率为:0.0,用时:96.75523447990417s\n",
      "当前epoch为:18,训练集损失为:6.7945604835706055,训练集正确率为:0.0,验证集损失为:6.879909740699516,验证集正确率为:0.0,用时:96.43197011947632s\n",
      "当前epoch为:19,训练集损失为:6.782100252663729,训练集正确率为:0.0,验证集损失为:6.84366902414259,验证集正确率为:0.0,用时:97.07532382011414s\n",
      "当前epoch为:20,训练集损失为:6.770809747886483,训练集正确率为:0.0,验证集损失为:6.846588341744392,验证集正确率为:0.0,用时:97.13252091407776s\n",
      "当前epoch为:21,训练集损失为:6.7597779733778465,训练集正确率为:0.0,验证集损失为:6.866342293037163,验证集正确率为:0.0,用时:105.46623730659485s\n",
      "当前epoch为:22,训练集损失为:6.730372795153932,训练集正确率为:0.0,验证集损失为:6.82893293768495,验证集正确率为:0.0,用时:99.0633134841919s\n",
      "当前epoch为:23,训练集损失为:6.711546078829674,训练集正确率为:0.0,验证集损失为:6.826286384037563,验证集正确率为:0.0,用时:99.12706565856934s\n",
      "当前epoch为:24,训练集损失为:6.7033494749165365,训练集正确率为:0.0,验证集损失为:6.836761527009063,验证集正确率为:0.0,用时:101.39330530166626s\n",
      "当前epoch为:25,训练集损失为:6.735800005338478,训练集正确率为:0.0,验证集损失为:6.8178658249614,验证集正确率为:0.0,用时:98.83799576759338s\n",
      "当前epoch为:26,训练集损失为:6.6851727483908485,训练集正确率为:0.0,验证集损失为:6.82508098424136,验证集正确率为:0.0,用时:98.57404947280884s\n",
      "当前epoch为:27,训练集损失为:6.677333313428842,训练集正确率为:0.0,验证集损失为:6.819705554417202,验证集正确率为:0.0,用时:98.5045235157013s\n",
      "当前epoch为:28,训练集损失为:6.667320219122085,训练集正确率为:0.0,验证集损失为:6.817302187720498,验证集正确率为:0.0,用时:98.70665979385376s\n",
      "当前epoch为:29,训练集损失为:6.6793510448375395,训练集正确率为:0.0,验证集损失为:6.81036961209643,验证集正确率为:0.0,用时:99.04817008972168s\n",
      "当前epoch为:30,训练集损失为:6.65098120464741,训练集正确率为:0.0,验证集损失为:6.801874412285103,验证集正确率为:0.0,用时:99.17018246650696s\n",
      "当前epoch为:31,训练集损失为:6.6464984878064515,训练集正确率为:0.0,验证集损失为:6.82803406558194,验证集正确率为:0.0,用时:98.45723819732666s\n",
      "当前epoch为:32,训练集损失为:6.6395483283577,训练集正确率为:0.0,验证集损失为:6.7941018015473755,验证集正确率为:0.0,用时:98.67312026023865s\n",
      "当前epoch为:33,训练集损失为:6.631994095775209,训练集正确率为:0.0,验证集损失为:6.7996780924744655,验证集正确率为:0.0,用时:99.62708377838135s\n",
      "当前epoch为:34,训练集损失为:6.624142516981451,训练集正确率为:0.0,验证集损失为:6.8000230605785665,验证集正确率为:0.0,用时:97.9633321762085s\n",
      "当前epoch为:35,训练集损失为:6.617913137762837,训练集正确率为:0.0,验证集损失为:6.793193253842029,验证集正确率为:0.0,用时:98.42317795753479s\n",
      "当前epoch为:36,训练集损失为:6.609446285625427,训练集正确率为:0.0,验证集损失为:6.8101179625961805,验证集正确率为:0.0,用时:98.72969198226929s\n",
      "当前epoch为:37,训练集损失为:6.618351469555653,训练集正确率为:0.0,验证集损失为:6.806304743001749,验证集正确率为:0.0,用时:97.69831371307373s\n",
      "当前epoch为:38,训练集损失为:6.60379588811579,训练集正确率为:0.0,验证集损失为:6.78512279017941,验证集正确率为:0.0,用时:97.01480293273926s\n",
      "当前epoch为:39,训练集损失为:6.601903586295851,训练集正确率为:0.0,验证集损失为:6.782981872558594,验证集正确率为:0.0,用时:98.01026558876038s\n",
      "当前epoch为:40,训练集损失为:6.595215680291083,训练集正确率为:0.0,验证集损失为:6.798583698796702,验证集正确率为:0.0,用时:97.03368926048279s\n",
      "当前epoch为:41,训练集损失为:6.5931325124885705,训练集正确率为:0.0,验证集损失为:6.786453550988501,验证集正确率为:0.0,用时:98.47742056846619s\n",
      "当前epoch为:42,训练集损失为:6.582649173701607,训练集正确率为:0.0,验证集损失为:6.785276719502041,验证集正确率为:0.0,用时:99.23696327209473s\n",
      "当前epoch为:43,训练集损失为:6.5864819046775755,训练集正确率为:0.0,验证集损失为:6.789149868619311,验证集正确率为:0.0,用时:97.444904088974s\n",
      "当前epoch为:44,训练集损失为:6.579221876688117,训练集正确率为:0.0,验证集损失为:6.790909148834564,验证集正确率为:0.0,用时:98.39661931991577s\n",
      "当前epoch为:45,训练集损失为:6.57876979135571,训练集正确率为:0.0,验证集损失为:6.775529258853787,验证集正确率为:0.0,用时:107.44300675392151s\n",
      "当前epoch为:46,训练集损失为:6.581625232556672,训练集正确率为:0.0,验证集损失为:6.778494772020277,验证集正确率为:0.0,用时:97.70113396644592s\n",
      "当前epoch为:47,训练集损失为:6.586345463690684,训练集正确率为:0.0,验证集损失为:6.774048336259612,验证集正确率为:0.0,用时:98.14542889595032s\n",
      "当前epoch为:48,训练集损失为:6.568888482863918,训练集正确率为:0.0,验证集损失为:6.800115451707945,验证集正确率为:0.0,用时:98.05565476417542s\n",
      "当前epoch为:49,训练集损失为:6.562930039371731,训练集正确率为:0.0,验证集损失为:6.776903037186507,验证集正确率为:0.0,用时:99.37917137145996s\n"
     ]
    }
   ],
   "source": [
    "device = ('cuda:0' if torch.cuda.is_available() else 'cpu')\n",
    "# 训练\n",
    "model = Modle()\n",
    "model.to(device)\n",
    "\n",
    "# 定义损失函数， 优化器\n",
    "loss_fn = nn.CrossEntropyLoss()\n",
    "optim = optim.Adam(model.parameters(), lr=0.001)\n",
    "\n",
    "\n",
    "def train(train_dataloader,epoches=50):\n",
    "\n",
    "    for epoch in range(epoches):\n",
    "        # 初始化\n",
    "        train_acc = 0\n",
    "        train_loss = 0\n",
    "        test_acc = 0\n",
    "        test_loss = 0\n",
    "        start = time.time()\n",
    "\n",
    "        # 设置pytorch的训练模式drop_out发挥作用\n",
    "        model.train()\n",
    "        for x, y in train_dataloader:\n",
    "            # 将数据集转移到gpu\n",
    "            x, y = x.to(device), y.to(device)\n",
    "            y_pred = model(x)\n",
    "            optim.zero_grad()\n",
    "            loss = loss_fn(y_pred, y)\n",
    "            loss.backward()\n",
    "            optim.step()\n",
    "\n",
    "            with torch.no_grad():\n",
    "                # 计算正确率与损失\n",
    "                train_acc = train_acc + acc(y_pred.cpu(), y.cpu())\n",
    "                train_loss = train_loss + loss.data.item()\n",
    "                # print(train_acc)\n",
    "\n",
    "        # 预测模式，drop_out不发挥作用 主要影响drop_out 与 BN层\n",
    "        model.eval()\n",
    "        with torch.no_grad():\n",
    "            for x, y in test_dataloader:\n",
    "                x, y = x.to(device), y.to(device)\n",
    "                y_pred = model(x)\n",
    "                loss = loss_fn(y_pred, y).data.item()\n",
    "                test_acc = test_acc + acc(y_pred.cpu(), y.cpu())\n",
    "                test_loss = test_loss + loss\n",
    "\n",
    "            end = time.time()\n",
    "            # 计算平均值\n",
    "            train_loss = train_loss / len(train_dataloader)\n",
    "            train_acc = train_acc / len(train_dataloader)\n",
    "\n",
    "            test_loss = test_loss / len(test_dataloader)\n",
    "            test_acc = test_acc / len(test_dataloader)\n",
    "            print('当前epoch为:{},训练集损失为:{},训练集正确率为:{},验证集损失为:{},验证集正确率为:{},用时:{}s'.format(epoch,\n",
    "                                                                                        train_loss,\n",
    "                                                                                        train_acc,\n",
    "                                                                                        test_loss,\n",
    "                                                                                        test_acc,\n",
    "                                                                                        end-start))\n",
    "\n"
   ],
   "metadata": {
    "collapsed": false,
    "pycharm": {
     "name": "#%%\n"
    }
   }
  },
  {
   "cell_type": "code",
   "execution_count": 27,
   "outputs": [],
   "source": [
    "# 保存模型\n",
    "torch.save(model.state_dict(), './model.pkl')"
   ],
   "metadata": {
    "collapsed": false,
    "pycharm": {
     "name": "#%%\n"
    }
   }
  },
  {
   "cell_type": "code",
   "execution_count": 58,
   "outputs": [],
   "source": [
    "# 在valid数据集验证\n",
    "\n",
    "path_valid = './data/puzzle_2x2/'\n",
    "valid_img,valid_label = read_data(path_valid,type='valid')\n",
    "\n",
    "# valid数据集\n",
    "valid_dataset = Mydataset(valid_img,valid_label)\n",
    "# 创建dataloader\n",
    "valid_dataloader = data.DataLoader(dataset=valid_dataset,\n",
    "                                   batch_size=512,)"
   ],
   "metadata": {
    "collapsed": false,
    "pycharm": {
     "name": "#%%\n"
    }
   }
  },
  {
   "cell_type": "code",
   "execution_count": 59,
   "outputs": [
    {
     "name": "stdout",
     "output_type": "stream",
     "text": [
      "valid数据集损失为:6.723812103271484,valid数据集正确率为:0.7194805194805195\n"
     ]
    },
    {
     "name": "stderr",
     "output_type": "stream",
     "text": [
      "D:\\文件\\代做\\拼图\\pytorch_net\\net.py:79: UserWarning: Implicit dimension choice for softmax has been deprecated. Change the call to include dim=X as an argument.\n",
      "  x = self.softmax_1(x)\n"
     ]
    }
   ],
   "source": [
    "def valid(model,valid_dataloader,loss_fn):\n",
    "    valid_acc = 0\n",
    "    valid_loss = 0\n",
    "    model.eval()\n",
    "    for x, y in valid_dataloader:\n",
    "        x, y = x.to(device), y.to(device)\n",
    "        y_pred = model(x)\n",
    "        loss = loss_fn(y_pred, y).data.item()\n",
    "        valid_acc = valid_acc + acc(y_pred.cpu(), y.cpu())\n",
    "        valid_loss = valid_loss + loss\n",
    "\n",
    "\n",
    "    valid_loss = valid_loss / len(valid_dataloader)\n",
    "    valid_acc = valid_acc / len(valid_dataloader)\n",
    "    print('valid数据集损失为:{},valid数据集正确率为:{}'.format(valid_loss,valid_acc))\n",
    "\n",
    "    return valid_acc,valid_loss\n",
    "\n",
    "\n"
   ],
   "metadata": {
    "collapsed": false,
    "pycharm": {
     "name": "#%%\n"
    }
   }
  }
 ],
 "metadata": {
  "kernelspec": {
   "display_name": "Python 3",
   "language": "python",
   "name": "python3"
  },
  "language_info": {
   "codemirror_mode": {
    "name": "ipython",
    "version": 2
   },
   "file_extension": ".py",
   "mimetype": "text/x-python",
   "name": "python",
   "nbconvert_exporter": "python",
   "pygments_lexer": "ipython2",
   "version": "2.7.6"
  }
 },
 "nbformat": 4,
 "nbformat_minor": 0
}